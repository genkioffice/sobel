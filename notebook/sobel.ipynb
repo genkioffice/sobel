{
 "cells": [
  {
   "cell_type": "code",
   "execution_count": 1,
   "metadata": {},
   "outputs": [
    {
     "ename": "ImportError",
     "evalue": "No module named 'tensorflow'",
     "traceback": [
      "\u001b[0;31m---------------------------------------------------------------------------\u001b[0m",
      "\u001b[0;31mImportError\u001b[0m                               Traceback (most recent call last)",
      "\u001b[0;32m<ipython-input-1-64156d691fe5>\u001b[0m in \u001b[0;36m<module>\u001b[0;34m()\u001b[0m\n\u001b[0;32m----> 1\u001b[0;31m \u001b[0;32mimport\u001b[0m \u001b[0mtensorflow\u001b[0m \u001b[0;32mas\u001b[0m \u001b[0mtf\u001b[0m\u001b[0;34m\u001b[0m\u001b[0m\n\u001b[0m",
      "\u001b[0;31mImportError\u001b[0m: No module named 'tensorflow'"
     ],
     "output_type": "error"
    }
   ],
   "source": [
    "import pandas as pd\n",
    "import numpy as np\n",
    "from PIL import Image\n",
    "import matplotlib.pyplot as plt\n",
    "import matplotlib\n",
    "%matplotlib inline\n",
    "FILEPATH = \"\""
   ]
  },
  {
   "cell_type": "code",
   "execution_count": null,
   "metadata": {},
   "outputs": [],
   "source": [
    "#rgb\n",
    "def rgb2image(arr):\n",
    "    value = 0.299*arr[:,:,0] + 0.587*arr[:,:,1] + 0.114*arr[:,:,2]\n",
    "    return value"
   ]
  },
  {
   "cell_type": "code",
   "execution_count": 1,
   "metadata": {},
   "outputs": [],
   "source": [
    "def sobel_ex(arr,op):\n",
    "    result = np.empty(shape=arr.shape)\n",
    "    fx = np.array([[1,2,1],[0,0,0],[-1,-2,-1]])\n",
    "    fy = fx.transpose()\n",
    "    i_dim = arr.shape\n",
    "    for x in range(i_dim[0]-2):\n",
    "        for y in range(i_dim[1]-2):\n",
    "            # you had to think with space way\n",
    "            sx = sum(sum(arr[x:x+3,y:y+3] * fx))\n",
    "            sy = sum(sum(arr[x:x+3,y:y+3] * fy))\n",
    "            result[x,y] = np.sqrt(sx**op + sy**op)\n",
    "    return result\n"
   ]
  },
  {
   "cell_type": "code",
   "execution_count": null,
   "metadata": {},
   "outputs": [],
   "source": [
    "#demo\n",
    "f = Image.open(fp=FILE_PATH)\n",
    "k = np.asarray(f)\n",
    "#2gray\n",
    "gray_arr = rgb2image(k)\n",
    "sobled = sobel_ex(gray_arr)\n",
    "plt.imshow(sobeld, cmap='gray')"
   ]
  }
 ],
 "metadata": {
  "kernelspec": {
   "display_name": "Python 3",
   "language": "python",
   "name": "python3"
  },
  "language_info": {
   "codemirror_mode": {
    "name": "ipython",
    "version": 3
   },
   "file_extension": ".py",
   "mimetype": "text/x-python",
   "name": "python",
   "nbconvert_exporter": "python",
   "pygments_lexer": "ipython3",
   "version": "3.5.4"
  }
 },
 "nbformat": 4,
 "nbformat_minor": 2
}
